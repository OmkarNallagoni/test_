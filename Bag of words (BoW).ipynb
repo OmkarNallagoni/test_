{
 "cells": [
  {
   "cell_type": "markdown",
   "id": "e2f849e1",
   "metadata": {},
   "source": [
    "1. A Quick Example\n",
    "\n",
    "- Let’s look at an easy example to understand the concepts previously explained. We could be interested in analyzing the reviews about Game of Thrones:\n",
    "\n",
    "- **Review 1:** Game of Thrones is an amazing tv series!\n",
    "\n",
    "- **Review 2:** Game of Thrones is the best tv series!\n",
    "\n",
    "- **Review 3:** Game of Thrones is so great\n",
    "\n",
    "In the table, I show all the calculations to obtain the Bag-Of-Words approach:"
   ]
  },
  {
   "cell_type": "markdown",
   "id": "42f7b777",
   "metadata": {},
   "source": [
    "<img decoding=\"async\" loading=\"lazy\" class=\"alignnone\" src=\"https://cdn-images-1.medium.com/max/1000/1*cHKkqYIhaYuYwuuhBiSlHw.png\" alt=\"Bag-of-Words with Python&nbsp; example\" width=\"815\" height=\"190\" data-image-id=\"1*cHKkqYIhaYuYwuuhBiSlHw.png\" data-width=\"815\" data-height=\"190\">"
   ]
  },
  {
   "cell_type": "markdown",
   "id": "54c922ac",
   "metadata": {},
   "source": [
    "Each row corresponds to a different review, while the rows are the unique words, contained in the three documents."
   ]
  },
  {
   "cell_type": "code",
   "execution_count": 1,
   "id": "c907c0e7",
   "metadata": {},
   "outputs": [
    {
     "name": "stdout",
     "output_type": "stream",
     "text": [
      "['sky nice', 'clouds nice', 'sky nice clouds nice']\n"
     ]
    }
   ],
   "source": [
    "from nltk.corpus import stopwords\n",
    "sentences = ['sky is nice', 'clouds are nice', 'Sky is nice and Clouds are nice']\n",
    "\n",
    "cleaned_sentence = []\n",
    "\n",
    "for sentence in sentences:\n",
    "    word = sentence.lower()  \n",
    "    ##lowering all the letters becaz we dont want it to treat uppercase and lower case words differently\n",
    "    \n",
    "    word = word.split()    ##splitting our sentence into words \n",
    "    \n",
    "    ##removing stop words\n",
    "    word = [i for i in word if i not in set(stopwords.words('english'))]          \n",
    "    word = \" \".join(word)               ##joining our words back to sentences\n",
    "    cleaned_sentence.append(word)       ##appending our preprocessed sentence into a new list\n",
    "    \n",
    "    \n",
    "## printing our new list\n",
    "print(cleaned_sentence) "
   ]
  },
  {
   "cell_type": "code",
   "execution_count": 2,
   "id": "53c54de9",
   "metadata": {},
   "outputs": [
    {
     "name": "stdout",
     "output_type": "stream",
     "text": [
      "[[0 1 1]\n",
      " [1 1 0]\n",
      " [1 2 1]]\n"
     ]
    }
   ],
   "source": [
    "from sklearn.feature_extraction.text import CountVectorizer\n",
    "\n",
    "cv = CountVectorizer(max_features = 3)  ##give it a max features as 3\n",
    "Bagofwords = cv.fit_transform(cleaned_sentence).toarray()\n",
    "\n",
    "print(Bagofwords)"
   ]
  },
  {
   "cell_type": "markdown",
   "id": "93de849c",
   "metadata": {},
   "source": [
    "Some disadvantages of BOWS:\n",
    "> It won’t provide any semantic information about the words. It only gives how many times has word occurred in a sentence and not its location or correlation with other words in the sentence.\n",
    "\n",
    ">It gives equal importance to all the words in the sentence. Hence it is most useful for simple processes.\n",
    "\n",
    ">There are other methods like Tfidf, word2Vec which are more complex and useful than BOWs."
   ]
  },
  {
   "cell_type": "markdown",
   "id": "a230577f",
   "metadata": {},
   "source": [
    "- BOW\n",
    "\n",
    "- tf-idf\n",
    "\n",
    "- word2vec\n",
    "\n",
    "- Glove"
   ]
  },
  {
   "cell_type": "code",
   "execution_count": 6,
   "id": "7d83d3b0",
   "metadata": {},
   "outputs": [
    {
     "name": "stdout",
     "output_type": "stream",
     "text": [
      "{'sky': 1, 'is': 2, 'nice': 4, 'clouds': 1, 'are': 2, 'Sky': 1, 'and': 1, 'Clouds': 1}\n"
     ]
    }
   ],
   "source": [
    "# Creating word histogram\n",
    "import nltk\n",
    "word2count = {}\n",
    "for data in sentences:\n",
    "    words = nltk.word_tokenize(data) # we are split into words\n",
    "    for word in words:               # we are calling each word\n",
    "        if word not in word2count.keys(): # if the word not in dictionary, we are \n",
    "            word2count[word] = 1\n",
    "        else:\n",
    "            word2count[word] += 1\n",
    "print(word2count)"
   ]
  },
  {
   "cell_type": "code",
   "execution_count": 7,
   "id": "c68b2a4f",
   "metadata": {},
   "outputs": [
    {
     "data": {
      "text/plain": [
       "{'A': 1}"
      ]
     },
     "execution_count": 7,
     "metadata": {},
     "output_type": "execute_result"
    }
   ],
   "source": [
    "dict1={}\n",
    "dict1['A']=1\n",
    "dict1"
   ]
  },
  {
   "cell_type": "code",
   "execution_count": 9,
   "id": "53eb393c",
   "metadata": {},
   "outputs": [],
   "source": [
    "string1='hai how are'  # Unique vowels  a e i o \n",
    "str1=''\n",
    "for i in string1:\n",
    "    if i in 'aeiou':\n",
    "        if i not in str1:\n",
    "            str1+=i"
   ]
  },
  {
   "cell_type": "code",
   "execution_count": 10,
   "id": "0a479f5b",
   "metadata": {},
   "outputs": [
    {
     "data": {
      "text/plain": [
       "'aioe'"
      ]
     },
     "execution_count": 10,
     "metadata": {},
     "output_type": "execute_result"
    }
   ],
   "source": [
    "str1"
   ]
  },
  {
   "cell_type": "code",
   "execution_count": null,
   "id": "3ccc99f9",
   "metadata": {},
   "outputs": [],
   "source": []
  }
 ],
 "metadata": {
  "kernelspec": {
   "display_name": "Python 3 (ipykernel)",
   "language": "python",
   "name": "python3"
  },
  "language_info": {
   "codemirror_mode": {
    "name": "ipython",
    "version": 3
   },
   "file_extension": ".py",
   "mimetype": "text/x-python",
   "name": "python",
   "nbconvert_exporter": "python",
   "pygments_lexer": "ipython3",
   "version": "3.11.5"
  }
 },
 "nbformat": 4,
 "nbformat_minor": 5
}
